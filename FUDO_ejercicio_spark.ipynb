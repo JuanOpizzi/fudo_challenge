{
  "nbformat": 4,
  "nbformat_minor": 0,
  "metadata": {
    "colab": {
      "provenance": []
    },
    "kernelspec": {
      "name": "python3",
      "display_name": "Python 3"
    },
    "language_info": {
      "name": "python"
    }
  },
  "cells": [
    {
      "cell_type": "code",
      "execution_count": 2,
      "metadata": {
        "colab": {
          "base_uri": "https://localhost:8080/"
        },
        "id": "nRR9_VsaGH_3",
        "outputId": "fa27123d-895d-4e03-8e30-3fa686cec37c"
      },
      "outputs": [
        {
          "output_type": "stream",
          "name": "stdout",
          "text": [
            "Mounted at /content/drive\n"
          ]
        }
      ],
      "source": [
        "from google.colab import drive\n",
        "drive.mount('/content/drive')"
      ]
    },
    {
      "cell_type": "markdown",
      "source": [
        "# Seteo de Spark"
      ],
      "metadata": {
        "id": "3JhZPMeiG2lE"
      }
    },
    {
      "cell_type": "code",
      "source": [
        "!pip install pyspark py4j\n"
      ],
      "metadata": {
        "colab": {
          "base_uri": "https://localhost:8080/"
        },
        "id": "KhC6nvB_Gcfr",
        "outputId": "ea697d2b-c7e8-4fb4-b2cc-e94caa1f2c2a"
      },
      "execution_count": 4,
      "outputs": [
        {
          "output_type": "stream",
          "name": "stdout",
          "text": [
            "Collecting pyspark\n",
            "  Downloading pyspark-3.5.0.tar.gz (316.9 MB)\n",
            "\u001b[2K     \u001b[90m━━━━━━━━━━━━━━━━━━━━━━━━━━━━━━━━━━━━━━━━\u001b[0m \u001b[32m316.9/316.9 MB\u001b[0m \u001b[31m3.3 MB/s\u001b[0m eta \u001b[36m0:00:00\u001b[0m\n",
            "\u001b[?25h  Preparing metadata (setup.py) ... \u001b[?25l\u001b[?25hdone\n",
            "Requirement already satisfied: py4j in /usr/local/lib/python3.10/dist-packages (0.10.9.7)\n",
            "Building wheels for collected packages: pyspark\n",
            "  Building wheel for pyspark (setup.py) ... \u001b[?25l\u001b[?25hdone\n",
            "  Created wheel for pyspark: filename=pyspark-3.5.0-py2.py3-none-any.whl size=317425345 sha256=2b566d1f4b26bd75ada24005e2584a3cab6ea210b21b40c6e2ae59785c89709e\n",
            "  Stored in directory: /root/.cache/pip/wheels/41/4e/10/c2cf2467f71c678cfc8a6b9ac9241e5e44a01940da8fbb17fc\n",
            "Successfully built pyspark\n",
            "Installing collected packages: pyspark\n",
            "Successfully installed pyspark-3.5.0\n"
          ]
        }
      ]
    },
    {
      "cell_type": "code",
      "source": [
        "from pyspark.sql import SparkSession"
      ],
      "metadata": {
        "id": "A90BRh3dI6oo"
      },
      "execution_count": 5,
      "outputs": []
    },
    {
      "cell_type": "code",
      "source": [
        "spark = SparkSession.builder.appName(\"recorrido_bicicletas\").getOrCreate()"
      ],
      "metadata": {
        "id": "W6HRZelrI6qo"
      },
      "execution_count": 6,
      "outputs": []
    },
    {
      "cell_type": "markdown",
      "source": [
        "# Funciones"
      ],
      "metadata": {
        "id": "XLaI9jf45DlG"
      }
    },
    {
      "cell_type": "code",
      "source": [
        "# Cambia el nombre de multiples columnas reemplazando el valor viejo por el nuevo\n",
        "# Recibe un diccionario donde la key es el nombre viejo de la columna y el value el nombre nuevo\n",
        "def renombrar_columnas(df, renombres):\n",
        "  for nombre_viejo, nombre_nuevo in renombres.items():\n",
        "    df = df.withColumnRenamed(nombre_viejo, nombre_nuevo)\n",
        "  return df"
      ],
      "metadata": {
        "id": "UInafibG5C8I"
      },
      "execution_count": 7,
      "outputs": []
    },
    {
      "cell_type": "markdown",
      "source": [
        "# Librerias"
      ],
      "metadata": {
        "id": "49M38aTa6van"
      }
    },
    {
      "cell_type": "code",
      "source": [
        "from pyspark.sql.functions import regexp_replace, concat_ws"
      ],
      "metadata": {
        "id": "V0231FGP6wtb"
      },
      "execution_count": 8,
      "outputs": []
    },
    {
      "cell_type": "markdown",
      "source": [
        "# Estaciones"
      ],
      "metadata": {
        "id": "k7BDxaMrJQ6q"
      }
    },
    {
      "cell_type": "code",
      "source": [
        "df_estaciones = spark.read.csv(\"/content/drive/MyDrive/Fudo Ejercicio/nuevas-estaciones-bicicletas-publicas.csv\", \\\n",
        "            sep=';', \\\n",
        "            encoding='Windows-1252', \\\n",
        "            header='True', \\\n",
        "            inferSchema='True' \\\n",
        "          )\n",
        "df_estaciones.show()\n"
      ],
      "metadata": {
        "colab": {
          "base_uri": "https://localhost:8080/"
        },
        "id": "JZIpWg0PI6sn",
        "outputId": "8a4e3224-a7d7-404c-b097-c3de7c45becf"
      },
      "execution_count": 102,
      "outputs": [
        {
          "output_type": "stream",
          "name": "stdout",
          "text": [
            "+--------+-------------------+-------------------+--------------------+----------------+---------+-------------+-------------------+------------------+\n",
            "|ID Comet|NÚMERO de Estación |             NOMBRE|           DIRECCIÓN|          BARRIO|   COMUNA|EMPLAZAMIENTO|            LATITUD|          LONGITUD|\n",
            "+--------+-------------------+-------------------+--------------------+----------------+---------+-------------+-------------------+------------------+\n",
            "|       2|                  2|           RETIRO I|Av. Dr. José Marí...|          RETIRO| COMUNA 1|        PLAZA|-34.592424135701144|-58.37470989599143|\n",
            "|       3|                  3|             ADUANA|            Moreno 4|       MONSERRAT| COMUNA 1|       VEREDA|           -34.6111|          -58.3682|\n",
            "|       4|                  4|         PLAZA ROMA|  Av. Corrientes 100|     SAN NICOLAS| COMUNA 1|       VEREDA| -34.60299498843603|58.368832321694654|\n",
            "|       5|                  5|       PLAZA ITALIA| Av. Sarmiento 2601 |         PALERMO|COMUNA 14|       VEREDA|           -34.5807|          -58.4204|\n",
            "|       6|                  6|      PARQUE LEZAMA|Av. Martín Garcia...|       SAN TELMO| COMUNA 1|        PLAZA|           -34.6283|          -58.3694|\n",
            "|       7|                  7|           OBELISCO|Carlos Pellegrini...|     SAN NICOLAS| COMUNA 1|    PLAZOLETA|           -34.6055|          -58.3808|\n",
            "|       8|                  8|           CONGRESO|  Virrey Cevallos 84|       MONSERRAT| COMUNA 1|        PLAZA|           -34.6101|          -58.3891|\n",
            "|       9|                  9|   PARQUE LAS HERAS| Av. Cnel. Diaz 2300|         PALERMO|COMUNA 14|        PLAZA|           -34.5856|          -58.4078|\n",
            "|      12|                 12|PLAZA VICENTE LOPEZ|         Parana 1307|        RECOLETA| COMUNA 2|        PLAZA|           -34.5928|          -58.3886|\n",
            "|      13|                 13|               ONCE|    Av. Pueyrredón 3|       BALVANERA| COMUNA 3|        PLAZA|           -34.6101|           -58.406|\n",
            "|      14|                 14|          PACÍFICO |Av. Int. Bullrich...|         PALERMO|COMUNA 14|       VEREDA|           -34.5778|          -58.4253|\n",
            "|      17|                 17|      PLAZA ALMAGRO|          Bulnes 441|         ALMAGRO| COMUNA 5|      CALZADA|           -34.6064|          -58.4185|\n",
            "|      21|                 21|   PARQUE PATRICIOS|          Iguazu 201|PARQUE PATRICIOS| COMUNA 4|    PLAZOLETA|           -34.6403|          -58.4065|\n",
            "|      22|                 22|           ARENALES|        Cerrito 1234|          RETIRO| COMUNA 1|    PLAZOLETA|           -34.5943|          -58.3828|\n",
            "|      23|                 23|           SUIPACHA|        Suipacha 691|     SAN NICOLAS| COMUNA 1|       VEREDA|           -34.6003|          -58.3796|\n",
            "|      24|                 24|             ALSINA|Bernardo Irigoyen...|       MONSERRAT| COMUNA 1|    PLAZOLETA|           -34.6107|          -58.3806|\n",
            "|      25|                 25|       PLAZA GÜEMES|Gral. Lucio Norbe...|         PALERMO|COMUNA 14|        PLAZA|           -34.5897|          -58.4165|\n",
            "|      26|                 26|      JUANA MANSO I|462 Emma de la Barra|   PUERTO MADERO| COMUNA 1|       VEREDA|           -34.6004|          -58.3639|\n",
            "|      27|                 27|         MONTEVIDEO|    Av. Córdoba 1606|     SAN NICOLAS| COMUNA 1|       VEREDA|           -34.5994|          -58.3897|\n",
            "|      29|                 29|  PARQUE CENTENARIO|Av. Patricias Arg...|       CABALLITO| COMUNA 6|        PLAZA|            -34.608|          -58.4334|\n",
            "+--------+-------------------+-------------------+--------------------+----------------+---------+-------------+-------------------+------------------+\n",
            "only showing top 20 rows\n",
            "\n"
          ]
        }
      ]
    },
    {
      "cell_type": "code",
      "source": [
        "renombres = {\n",
        "    'ID Comet': 'id_comet',\n",
        "    'NÚMERO de Estación ': 'nro_de_estacion',\n",
        "    'NOMBRE': 'nombre',\n",
        "    'DIRECCIÓN': 'direccion',\n",
        "    'BARRIO': 'barrio',\n",
        "    'COMUNA': 'comuna',\n",
        "    'EMPLAZAMIENTO': 'emplazamiento',\n",
        "    'LATITUD': 'latitud',\n",
        "    'LONGITUD': 'longitud',\n",
        "}\n",
        "\n",
        "df_estaciones = renombrar_columnas(df_estaciones, renombres)\n",
        "\n",
        "\n",
        "df_estaciones.show()"
      ],
      "metadata": {
        "colab": {
          "base_uri": "https://localhost:8080/"
        },
        "id": "_UF4ZFywI6vj",
        "outputId": "e991469f-9cd2-4e72-c28e-e3094b1acdbe"
      },
      "execution_count": 103,
      "outputs": [
        {
          "output_type": "stream",
          "name": "stdout",
          "text": [
            "+--------+---------------+-------------------+--------------------+----------------+---------+-------------+-------------------+------------------+\n",
            "|id_comet|nro_de_estacion|             nombre|           direccion|          barrio|   comuna|emplazamiento|            latitud|          longitud|\n",
            "+--------+---------------+-------------------+--------------------+----------------+---------+-------------+-------------------+------------------+\n",
            "|       2|              2|           RETIRO I|Av. Dr. José Marí...|          RETIRO| COMUNA 1|        PLAZA|-34.592424135701144|-58.37470989599143|\n",
            "|       3|              3|             ADUANA|            Moreno 4|       MONSERRAT| COMUNA 1|       VEREDA|           -34.6111|          -58.3682|\n",
            "|       4|              4|         PLAZA ROMA|  Av. Corrientes 100|     SAN NICOLAS| COMUNA 1|       VEREDA| -34.60299498843603|58.368832321694654|\n",
            "|       5|              5|       PLAZA ITALIA| Av. Sarmiento 2601 |         PALERMO|COMUNA 14|       VEREDA|           -34.5807|          -58.4204|\n",
            "|       6|              6|      PARQUE LEZAMA|Av. Martín Garcia...|       SAN TELMO| COMUNA 1|        PLAZA|           -34.6283|          -58.3694|\n",
            "|       7|              7|           OBELISCO|Carlos Pellegrini...|     SAN NICOLAS| COMUNA 1|    PLAZOLETA|           -34.6055|          -58.3808|\n",
            "|       8|              8|           CONGRESO|  Virrey Cevallos 84|       MONSERRAT| COMUNA 1|        PLAZA|           -34.6101|          -58.3891|\n",
            "|       9|              9|   PARQUE LAS HERAS| Av. Cnel. Diaz 2300|         PALERMO|COMUNA 14|        PLAZA|           -34.5856|          -58.4078|\n",
            "|      12|             12|PLAZA VICENTE LOPEZ|         Parana 1307|        RECOLETA| COMUNA 2|        PLAZA|           -34.5928|          -58.3886|\n",
            "|      13|             13|               ONCE|    Av. Pueyrredón 3|       BALVANERA| COMUNA 3|        PLAZA|           -34.6101|           -58.406|\n",
            "|      14|             14|          PACÍFICO |Av. Int. Bullrich...|         PALERMO|COMUNA 14|       VEREDA|           -34.5778|          -58.4253|\n",
            "|      17|             17|      PLAZA ALMAGRO|          Bulnes 441|         ALMAGRO| COMUNA 5|      CALZADA|           -34.6064|          -58.4185|\n",
            "|      21|             21|   PARQUE PATRICIOS|          Iguazu 201|PARQUE PATRICIOS| COMUNA 4|    PLAZOLETA|           -34.6403|          -58.4065|\n",
            "|      22|             22|           ARENALES|        Cerrito 1234|          RETIRO| COMUNA 1|    PLAZOLETA|           -34.5943|          -58.3828|\n",
            "|      23|             23|           SUIPACHA|        Suipacha 691|     SAN NICOLAS| COMUNA 1|       VEREDA|           -34.6003|          -58.3796|\n",
            "|      24|             24|             ALSINA|Bernardo Irigoyen...|       MONSERRAT| COMUNA 1|    PLAZOLETA|           -34.6107|          -58.3806|\n",
            "|      25|             25|       PLAZA GÜEMES|Gral. Lucio Norbe...|         PALERMO|COMUNA 14|        PLAZA|           -34.5897|          -58.4165|\n",
            "|      26|             26|      JUANA MANSO I|462 Emma de la Barra|   PUERTO MADERO| COMUNA 1|       VEREDA|           -34.6004|          -58.3639|\n",
            "|      27|             27|         MONTEVIDEO|    Av. Córdoba 1606|     SAN NICOLAS| COMUNA 1|       VEREDA|           -34.5994|          -58.3897|\n",
            "|      29|             29|  PARQUE CENTENARIO|Av. Patricias Arg...|       CABALLITO| COMUNA 6|        PLAZA|            -34.608|          -58.4334|\n",
            "+--------+---------------+-------------------+--------------------+----------------+---------+-------------+-------------------+------------------+\n",
            "only showing top 20 rows\n",
            "\n"
          ]
        }
      ]
    },
    {
      "cell_type": "code",
      "source": [
        "df_estaciones = df_estaciones.withColumn('comuna', regexp_replace('comuna', 'COMUNA ', ''))\n",
        "df_estaciones.show()"
      ],
      "metadata": {
        "colab": {
          "base_uri": "https://localhost:8080/"
        },
        "id": "nNS-wJysPuQi",
        "outputId": "b2564414-f41c-4de6-b664-f6f6ccb054dc"
      },
      "execution_count": 104,
      "outputs": [
        {
          "output_type": "stream",
          "name": "stdout",
          "text": [
            "+--------+---------------+-------------------+--------------------+----------------+------+-------------+-------------------+------------------+\n",
            "|id_comet|nro_de_estacion|             nombre|           direccion|          barrio|comuna|emplazamiento|            latitud|          longitud|\n",
            "+--------+---------------+-------------------+--------------------+----------------+------+-------------+-------------------+------------------+\n",
            "|       2|              2|           RETIRO I|Av. Dr. José Marí...|          RETIRO|     1|        PLAZA|-34.592424135701144|-58.37470989599143|\n",
            "|       3|              3|             ADUANA|            Moreno 4|       MONSERRAT|     1|       VEREDA|           -34.6111|          -58.3682|\n",
            "|       4|              4|         PLAZA ROMA|  Av. Corrientes 100|     SAN NICOLAS|     1|       VEREDA| -34.60299498843603|58.368832321694654|\n",
            "|       5|              5|       PLAZA ITALIA| Av. Sarmiento 2601 |         PALERMO|    14|       VEREDA|           -34.5807|          -58.4204|\n",
            "|       6|              6|      PARQUE LEZAMA|Av. Martín Garcia...|       SAN TELMO|     1|        PLAZA|           -34.6283|          -58.3694|\n",
            "|       7|              7|           OBELISCO|Carlos Pellegrini...|     SAN NICOLAS|     1|    PLAZOLETA|           -34.6055|          -58.3808|\n",
            "|       8|              8|           CONGRESO|  Virrey Cevallos 84|       MONSERRAT|     1|        PLAZA|           -34.6101|          -58.3891|\n",
            "|       9|              9|   PARQUE LAS HERAS| Av. Cnel. Diaz 2300|         PALERMO|    14|        PLAZA|           -34.5856|          -58.4078|\n",
            "|      12|             12|PLAZA VICENTE LOPEZ|         Parana 1307|        RECOLETA|     2|        PLAZA|           -34.5928|          -58.3886|\n",
            "|      13|             13|               ONCE|    Av. Pueyrredón 3|       BALVANERA|     3|        PLAZA|           -34.6101|           -58.406|\n",
            "|      14|             14|          PACÍFICO |Av. Int. Bullrich...|         PALERMO|    14|       VEREDA|           -34.5778|          -58.4253|\n",
            "|      17|             17|      PLAZA ALMAGRO|          Bulnes 441|         ALMAGRO|     5|      CALZADA|           -34.6064|          -58.4185|\n",
            "|      21|             21|   PARQUE PATRICIOS|          Iguazu 201|PARQUE PATRICIOS|     4|    PLAZOLETA|           -34.6403|          -58.4065|\n",
            "|      22|             22|           ARENALES|        Cerrito 1234|          RETIRO|     1|    PLAZOLETA|           -34.5943|          -58.3828|\n",
            "|      23|             23|           SUIPACHA|        Suipacha 691|     SAN NICOLAS|     1|       VEREDA|           -34.6003|          -58.3796|\n",
            "|      24|             24|             ALSINA|Bernardo Irigoyen...|       MONSERRAT|     1|    PLAZOLETA|           -34.6107|          -58.3806|\n",
            "|      25|             25|       PLAZA GÜEMES|Gral. Lucio Norbe...|         PALERMO|    14|        PLAZA|           -34.5897|          -58.4165|\n",
            "|      26|             26|      JUANA MANSO I|462 Emma de la Barra|   PUERTO MADERO|     1|       VEREDA|           -34.6004|          -58.3639|\n",
            "|      27|             27|         MONTEVIDEO|    Av. Córdoba 1606|     SAN NICOLAS|     1|       VEREDA|           -34.5994|          -58.3897|\n",
            "|      29|             29|  PARQUE CENTENARIO|Av. Patricias Arg...|       CABALLITO|     6|        PLAZA|            -34.608|          -58.4334|\n",
            "+--------+---------------+-------------------+--------------------+----------------+------+-------------+-------------------+------------------+\n",
            "only showing top 20 rows\n",
            "\n"
          ]
        }
      ]
    },
    {
      "cell_type": "markdown",
      "source": [
        "# Usuarios"
      ],
      "metadata": {
        "id": "z_r-pvrhRsu3"
      }
    },
    {
      "cell_type": "code",
      "source": [
        "df_usuarios = spark.read.csv('/content/drive/MyDrive/Fudo Ejercicio/usuarios_ecobici_2023.csv', header = 'True', inferSchema='False')\n",
        "df_usuarios.show()"
      ],
      "metadata": {
        "colab": {
          "base_uri": "https://localhost:8080/"
        },
        "id": "sKgb7SfcRwkP",
        "outputId": "8605f62b-000d-4bfc-a63c-1cfa2bed0c99"
      },
      "execution_count": 91,
      "outputs": [
        {
          "output_type": "stream",
          "name": "stdout",
          "text": [
            "+----------+--------------+------------+----------+---------+---------------------------+\n",
            "|ID_usuario|genero_usuario|edad_usuario|fecha_alta|hora_alta|Customer.Has.Dni..Yes...No.|\n",
            "+----------+--------------+------------+----------+---------+---------------------------+\n",
            "|   1083476|          MALE|          20|2023-12-31| 19:24:57|                        Yes|\n",
            "|   1083080|        FEMALE|          18|2023-12-31| 00:05:03|                        Yes|\n",
            "|   1083163|         OTHER|          27|2023-12-31| 10:16:12|                         No|\n",
            "|   1083435|          MALE|          24|2023-12-31| 17:42:11|                        Yes|\n",
            "|   1083376|         OTHER|          32|2023-12-31| 16:16:15|                         No|\n",
            "|   1083334|         OTHER|          34|2023-12-31| 15:07:05|                         No|\n",
            "|   1083534|          MALE|          19|2023-12-31| 23:22:46|                        Yes|\n",
            "|   1083473|          MALE|          37|2023-12-31| 19:16:00|                        Yes|\n",
            "|   1083530|         OTHER|          29|2023-12-31| 23:01:33|                         No|\n",
            "|   1083282|        FEMALE|          24|2023-12-31| 13:23:39|                        Yes|\n",
            "|   1083442|        FEMALE|          65|2023-12-31| 17:54:07|                        Yes|\n",
            "|   1083211|        FEMALE|          18|2023-12-31| 11:37:33|                        Yes|\n",
            "|   1083204|         OTHER|          24|2023-12-31| 11:28:13|                         No|\n",
            "|   1083436|         OTHER|          20|2023-12-31| 17:44:33|                         No|\n",
            "|   1083418|         OTHER|          25|2023-12-31| 17:06:32|                         No|\n",
            "|   1083095|          MALE|          21|2023-12-31| 01:21:49|                        Yes|\n",
            "|   1083132|         OTHER|          23|2023-12-31| 08:27:09|                         No|\n",
            "|   1083467|        FEMALE|          48|2023-12-31| 18:52:19|                        Yes|\n",
            "|   1083325|        FEMALE|          27|2023-12-31| 14:51:54|                        Yes|\n",
            "|   1083220|         OTHER|          33|2023-12-31| 11:53:02|                         No|\n",
            "+----------+--------------+------------+----------+---------+---------------------------+\n",
            "only showing top 20 rows\n",
            "\n"
          ]
        }
      ]
    },
    {
      "cell_type": "code",
      "source": [
        "renombramientos = {\n",
        "    'ID_usuario': 'id_usuario',\n",
        "    'genero_usuario': 'genero',\n",
        "    'edad_usuario': 'edad',\n",
        "    'Customer.Has.Dni..Yes...No.': 'posee_dni'\n",
        "}\n",
        "\n",
        "df_usuarios = renombrar_columnas(df_usuarios, renombramientos)\n",
        "\n",
        "df_usuarios.show()"
      ],
      "metadata": {
        "colab": {
          "base_uri": "https://localhost:8080/"
        },
        "id": "dE6zdbcNRwoT",
        "outputId": "ab820253-5094-475d-fc4f-02ddf888dbb6"
      },
      "execution_count": 92,
      "outputs": [
        {
          "output_type": "stream",
          "name": "stdout",
          "text": [
            "+----------+------+----+----------+---------+---------+\n",
            "|id_usuario|genero|edad|fecha_alta|hora_alta|posee_dni|\n",
            "+----------+------+----+----------+---------+---------+\n",
            "|   1083476|  MALE|  20|2023-12-31| 19:24:57|      Yes|\n",
            "|   1083080|FEMALE|  18|2023-12-31| 00:05:03|      Yes|\n",
            "|   1083163| OTHER|  27|2023-12-31| 10:16:12|       No|\n",
            "|   1083435|  MALE|  24|2023-12-31| 17:42:11|      Yes|\n",
            "|   1083376| OTHER|  32|2023-12-31| 16:16:15|       No|\n",
            "|   1083334| OTHER|  34|2023-12-31| 15:07:05|       No|\n",
            "|   1083534|  MALE|  19|2023-12-31| 23:22:46|      Yes|\n",
            "|   1083473|  MALE|  37|2023-12-31| 19:16:00|      Yes|\n",
            "|   1083530| OTHER|  29|2023-12-31| 23:01:33|       No|\n",
            "|   1083282|FEMALE|  24|2023-12-31| 13:23:39|      Yes|\n",
            "|   1083442|FEMALE|  65|2023-12-31| 17:54:07|      Yes|\n",
            "|   1083211|FEMALE|  18|2023-12-31| 11:37:33|      Yes|\n",
            "|   1083204| OTHER|  24|2023-12-31| 11:28:13|       No|\n",
            "|   1083436| OTHER|  20|2023-12-31| 17:44:33|       No|\n",
            "|   1083418| OTHER|  25|2023-12-31| 17:06:32|       No|\n",
            "|   1083095|  MALE|  21|2023-12-31| 01:21:49|      Yes|\n",
            "|   1083132| OTHER|  23|2023-12-31| 08:27:09|       No|\n",
            "|   1083467|FEMALE|  48|2023-12-31| 18:52:19|      Yes|\n",
            "|   1083325|FEMALE|  27|2023-12-31| 14:51:54|      Yes|\n",
            "|   1083220| OTHER|  33|2023-12-31| 11:53:02|       No|\n",
            "+----------+------+----+----------+---------+---------+\n",
            "only showing top 20 rows\n",
            "\n"
          ]
        }
      ]
    },
    {
      "cell_type": "code",
      "source": [
        "df_usuarios = df_usuarios.withColumn('posee_dni', regexp_replace('posee_dni', 'Yes', 'Si'))\n",
        "\n",
        "df_usuarios = df_usuarios.replace(['MALE', 'FEMALE', 'OTHER'], ['HOMBRE', 'MUJER', 'OTRO'], 'genero')\n",
        "df_usuarios.show()"
      ],
      "metadata": {
        "colab": {
          "base_uri": "https://localhost:8080/"
        },
        "id": "8kXm6C8wRwqy",
        "outputId": "39b422ca-c0b2-4069-db04-62eba6bd59f6"
      },
      "execution_count": 93,
      "outputs": [
        {
          "output_type": "stream",
          "name": "stdout",
          "text": [
            "+----------+------+----+----------+---------+---------+\n",
            "|id_usuario|genero|edad|fecha_alta|hora_alta|posee_dni|\n",
            "+----------+------+----+----------+---------+---------+\n",
            "|   1083476|HOMBRE|  20|2023-12-31| 19:24:57|       Si|\n",
            "|   1083080| MUJER|  18|2023-12-31| 00:05:03|       Si|\n",
            "|   1083163|  OTRO|  27|2023-12-31| 10:16:12|       No|\n",
            "|   1083435|HOMBRE|  24|2023-12-31| 17:42:11|       Si|\n",
            "|   1083376|  OTRO|  32|2023-12-31| 16:16:15|       No|\n",
            "|   1083334|  OTRO|  34|2023-12-31| 15:07:05|       No|\n",
            "|   1083534|HOMBRE|  19|2023-12-31| 23:22:46|       Si|\n",
            "|   1083473|HOMBRE|  37|2023-12-31| 19:16:00|       Si|\n",
            "|   1083530|  OTRO|  29|2023-12-31| 23:01:33|       No|\n",
            "|   1083282| MUJER|  24|2023-12-31| 13:23:39|       Si|\n",
            "|   1083442| MUJER|  65|2023-12-31| 17:54:07|       Si|\n",
            "|   1083211| MUJER|  18|2023-12-31| 11:37:33|       Si|\n",
            "|   1083204|  OTRO|  24|2023-12-31| 11:28:13|       No|\n",
            "|   1083436|  OTRO|  20|2023-12-31| 17:44:33|       No|\n",
            "|   1083418|  OTRO|  25|2023-12-31| 17:06:32|       No|\n",
            "|   1083095|HOMBRE|  21|2023-12-31| 01:21:49|       Si|\n",
            "|   1083132|  OTRO|  23|2023-12-31| 08:27:09|       No|\n",
            "|   1083467| MUJER|  48|2023-12-31| 18:52:19|       Si|\n",
            "|   1083325| MUJER|  27|2023-12-31| 14:51:54|       Si|\n",
            "|   1083220|  OTRO|  33|2023-12-31| 11:53:02|       No|\n",
            "+----------+------+----+----------+---------+---------+\n",
            "only showing top 20 rows\n",
            "\n"
          ]
        }
      ]
    },
    {
      "cell_type": "code",
      "source": [
        "df_usuarios = df_usuarios.select('id_usuario', 'genero', 'edad', concat_ws(' ', df_usuarios.fecha_alta, df_usuarios.hora_alta).alias(\"fecha_de_alta\"), 'posee_dni')\n",
        "\n",
        "df_usuarios.show()"
      ],
      "metadata": {
        "colab": {
          "base_uri": "https://localhost:8080/"
        },
        "id": "rssWCt0qV_V0",
        "outputId": "6acd1467-545b-43d9-ccd4-db67956ed58e"
      },
      "execution_count": 94,
      "outputs": [
        {
          "output_type": "stream",
          "name": "stdout",
          "text": [
            "+----------+------+----+-------------------+---------+\n",
            "|id_usuario|genero|edad|      fecha_de_alta|posee_dni|\n",
            "+----------+------+----+-------------------+---------+\n",
            "|   1083476|HOMBRE|  20|2023-12-31 19:24:57|       Si|\n",
            "|   1083080| MUJER|  18|2023-12-31 00:05:03|       Si|\n",
            "|   1083163|  OTRO|  27|2023-12-31 10:16:12|       No|\n",
            "|   1083435|HOMBRE|  24|2023-12-31 17:42:11|       Si|\n",
            "|   1083376|  OTRO|  32|2023-12-31 16:16:15|       No|\n",
            "|   1083334|  OTRO|  34|2023-12-31 15:07:05|       No|\n",
            "|   1083534|HOMBRE|  19|2023-12-31 23:22:46|       Si|\n",
            "|   1083473|HOMBRE|  37|2023-12-31 19:16:00|       Si|\n",
            "|   1083530|  OTRO|  29|2023-12-31 23:01:33|       No|\n",
            "|   1083282| MUJER|  24|2023-12-31 13:23:39|       Si|\n",
            "|   1083442| MUJER|  65|2023-12-31 17:54:07|       Si|\n",
            "|   1083211| MUJER|  18|2023-12-31 11:37:33|       Si|\n",
            "|   1083204|  OTRO|  24|2023-12-31 11:28:13|       No|\n",
            "|   1083436|  OTRO|  20|2023-12-31 17:44:33|       No|\n",
            "|   1083418|  OTRO|  25|2023-12-31 17:06:32|       No|\n",
            "|   1083095|HOMBRE|  21|2023-12-31 01:21:49|       Si|\n",
            "|   1083132|  OTRO|  23|2023-12-31 08:27:09|       No|\n",
            "|   1083467| MUJER|  48|2023-12-31 18:52:19|       Si|\n",
            "|   1083325| MUJER|  27|2023-12-31 14:51:54|       Si|\n",
            "|   1083220|  OTRO|  33|2023-12-31 11:53:02|       No|\n",
            "+----------+------+----+-------------------+---------+\n",
            "only showing top 20 rows\n",
            "\n"
          ]
        }
      ]
    },
    {
      "cell_type": "code",
      "source": [
        "df_usuarios = df_usuarios.withColumn('edad', regexp_replace('edad', ',\\d*', ''))\n",
        "df_usuarios = df_usuarios.withColumn('edad', regexp_replace('edad', ' ', ''))\n",
        "df_usuarios.show()"
      ],
      "metadata": {
        "colab": {
          "base_uri": "https://localhost:8080/"
        },
        "id": "nO9gKp6MbGvY",
        "outputId": "097a0f11-1cea-4793-b7d8-a9a93ca071fb"
      },
      "execution_count": 95,
      "outputs": [
        {
          "output_type": "stream",
          "name": "stdout",
          "text": [
            "+----------+------+----+-------------------+---------+\n",
            "|id_usuario|genero|edad|      fecha_de_alta|posee_dni|\n",
            "+----------+------+----+-------------------+---------+\n",
            "|   1083476|HOMBRE|  20|2023-12-31 19:24:57|       Si|\n",
            "|   1083080| MUJER|  18|2023-12-31 00:05:03|       Si|\n",
            "|   1083163|  OTRO|  27|2023-12-31 10:16:12|       No|\n",
            "|   1083435|HOMBRE|  24|2023-12-31 17:42:11|       Si|\n",
            "|   1083376|  OTRO|  32|2023-12-31 16:16:15|       No|\n",
            "|   1083334|  OTRO|  34|2023-12-31 15:07:05|       No|\n",
            "|   1083534|HOMBRE|  19|2023-12-31 23:22:46|       Si|\n",
            "|   1083473|HOMBRE|  37|2023-12-31 19:16:00|       Si|\n",
            "|   1083530|  OTRO|  29|2023-12-31 23:01:33|       No|\n",
            "|   1083282| MUJER|  24|2023-12-31 13:23:39|       Si|\n",
            "|   1083442| MUJER|  65|2023-12-31 17:54:07|       Si|\n",
            "|   1083211| MUJER|  18|2023-12-31 11:37:33|       Si|\n",
            "|   1083204|  OTRO|  24|2023-12-31 11:28:13|       No|\n",
            "|   1083436|  OTRO|  20|2023-12-31 17:44:33|       No|\n",
            "|   1083418|  OTRO|  25|2023-12-31 17:06:32|       No|\n",
            "|   1083095|HOMBRE|  21|2023-12-31 01:21:49|       Si|\n",
            "|   1083132|  OTRO|  23|2023-12-31 08:27:09|       No|\n",
            "|   1083467| MUJER|  48|2023-12-31 18:52:19|       Si|\n",
            "|   1083325| MUJER|  27|2023-12-31 14:51:54|       Si|\n",
            "|   1083220|  OTRO|  33|2023-12-31 11:53:02|       No|\n",
            "+----------+------+----+-------------------+---------+\n",
            "only showing top 20 rows\n",
            "\n"
          ]
        }
      ]
    },
    {
      "cell_type": "code",
      "source": [
        "df_usuarios = df_usuarios.withColumn(\"edad\",col(\"edad\").cast(\"int\"))\n",
        "df_usuarios.show()"
      ],
      "metadata": {
        "colab": {
          "base_uri": "https://localhost:8080/"
        },
        "id": "1zvTDZclV_kS",
        "outputId": "0d68f7dc-95c4-4b2b-bfe4-0cd5ce86855c"
      },
      "execution_count": 96,
      "outputs": [
        {
          "output_type": "stream",
          "name": "stdout",
          "text": [
            "+----------+------+----+-------------------+---------+\n",
            "|id_usuario|genero|edad|      fecha_de_alta|posee_dni|\n",
            "+----------+------+----+-------------------+---------+\n",
            "|   1083476|HOMBRE|  20|2023-12-31 19:24:57|       Si|\n",
            "|   1083080| MUJER|  18|2023-12-31 00:05:03|       Si|\n",
            "|   1083163|  OTRO|  27|2023-12-31 10:16:12|       No|\n",
            "|   1083435|HOMBRE|  24|2023-12-31 17:42:11|       Si|\n",
            "|   1083376|  OTRO|  32|2023-12-31 16:16:15|       No|\n",
            "|   1083334|  OTRO|  34|2023-12-31 15:07:05|       No|\n",
            "|   1083534|HOMBRE|  19|2023-12-31 23:22:46|       Si|\n",
            "|   1083473|HOMBRE|  37|2023-12-31 19:16:00|       Si|\n",
            "|   1083530|  OTRO|  29|2023-12-31 23:01:33|       No|\n",
            "|   1083282| MUJER|  24|2023-12-31 13:23:39|       Si|\n",
            "|   1083442| MUJER|  65|2023-12-31 17:54:07|       Si|\n",
            "|   1083211| MUJER|  18|2023-12-31 11:37:33|       Si|\n",
            "|   1083204|  OTRO|  24|2023-12-31 11:28:13|       No|\n",
            "|   1083436|  OTRO|  20|2023-12-31 17:44:33|       No|\n",
            "|   1083418|  OTRO|  25|2023-12-31 17:06:32|       No|\n",
            "|   1083095|HOMBRE|  21|2023-12-31 01:21:49|       Si|\n",
            "|   1083132|  OTRO|  23|2023-12-31 08:27:09|       No|\n",
            "|   1083467| MUJER|  48|2023-12-31 18:52:19|       Si|\n",
            "|   1083325| MUJER|  27|2023-12-31 14:51:54|       Si|\n",
            "|   1083220|  OTRO|  33|2023-12-31 11:53:02|       No|\n",
            "+----------+------+----+-------------------+---------+\n",
            "only showing top 20 rows\n",
            "\n"
          ]
        }
      ]
    },
    {
      "cell_type": "code",
      "source": [
        "df_usuarios = df_usuarios.filter((df_usuarios.edad >= 10) & (df_usuarios.edad <= 80))\n",
        "df_usuarios.show()"
      ],
      "metadata": {
        "colab": {
          "base_uri": "https://localhost:8080/"
        },
        "id": "qOIlAYYL1Ha6",
        "outputId": "a6f25af6-adc3-4915-eee0-418f17b0ebab"
      },
      "execution_count": 100,
      "outputs": [
        {
          "output_type": "stream",
          "name": "stdout",
          "text": [
            "+----------+------+----+-------------------+---------+\n",
            "|id_usuario|genero|edad|      fecha_de_alta|posee_dni|\n",
            "+----------+------+----+-------------------+---------+\n",
            "|   1083476|HOMBRE|  20|2023-12-31 19:24:57|       Si|\n",
            "|   1083080| MUJER|  18|2023-12-31 00:05:03|       Si|\n",
            "|   1083163|  OTRO|  27|2023-12-31 10:16:12|       No|\n",
            "|   1083435|HOMBRE|  24|2023-12-31 17:42:11|       Si|\n",
            "|   1083376|  OTRO|  32|2023-12-31 16:16:15|       No|\n",
            "|   1083334|  OTRO|  34|2023-12-31 15:07:05|       No|\n",
            "|   1083534|HOMBRE|  19|2023-12-31 23:22:46|       Si|\n",
            "|   1083473|HOMBRE|  37|2023-12-31 19:16:00|       Si|\n",
            "|   1083530|  OTRO|  29|2023-12-31 23:01:33|       No|\n",
            "|   1083282| MUJER|  24|2023-12-31 13:23:39|       Si|\n",
            "|   1083442| MUJER|  65|2023-12-31 17:54:07|       Si|\n",
            "|   1083211| MUJER|  18|2023-12-31 11:37:33|       Si|\n",
            "|   1083204|  OTRO|  24|2023-12-31 11:28:13|       No|\n",
            "|   1083436|  OTRO|  20|2023-12-31 17:44:33|       No|\n",
            "|   1083418|  OTRO|  25|2023-12-31 17:06:32|       No|\n",
            "|   1083095|HOMBRE|  21|2023-12-31 01:21:49|       Si|\n",
            "|   1083132|  OTRO|  23|2023-12-31 08:27:09|       No|\n",
            "|   1083467| MUJER|  48|2023-12-31 18:52:19|       Si|\n",
            "|   1083325| MUJER|  27|2023-12-31 14:51:54|       Si|\n",
            "|   1083220|  OTRO|  33|2023-12-31 11:53:02|       No|\n",
            "+----------+------+----+-------------------+---------+\n",
            "only showing top 20 rows\n",
            "\n"
          ]
        }
      ]
    },
    {
      "cell_type": "code",
      "source": [
        "df_usuarios.select(min ('edad')).collect()"
      ],
      "metadata": {
        "colab": {
          "base_uri": "https://localhost:8080/"
        },
        "id": "diBnl03e2Xna",
        "outputId": "3eb30b6c-867f-44be-ef86-3110cfc59b55"
      },
      "execution_count": 101,
      "outputs": [
        {
          "output_type": "execute_result",
          "data": {
            "text/plain": [
              "[Row(min(edad)=14)]"
            ]
          },
          "metadata": {},
          "execution_count": 101
        }
      ]
    },
    {
      "cell_type": "markdown",
      "source": [
        "# Recorridos"
      ],
      "metadata": {
        "id": "BS-S3l9yDefe"
      }
    },
    {
      "cell_type": "markdown",
      "source": [
        "No me alcanzo el tiempo para abrir correctamente el csv como un zip desde colab. Pero el procesamiento de este archivo seria equivalente a lo hecho en la resolucion con pandas y semejante a lo hecho para los otros 2 datasets.\n",
        "\n",
        "Tambien falta crear las tablas y poblarlas, que es hacer con la libreria SQL de pyspark lo que ya se hizo con sqlite3."
      ],
      "metadata": {
        "id": "Ffhk1Er0Dn6K"
      }
    },
    {
      "cell_type": "code",
      "source": [
        "#df_tours_tomados = pd.read_csv('/content/gdrive/MyDrive/Fudo Ejercicio/recorridos-realizados-2023.zip', compression='zip')\n",
        "import zipfile\n",
        "import io\n",
        "# bzip2, gzip\n",
        "\n",
        "#df_recorridos = spark.read.options(compression = 'bzip2', header=True).csv(\"/content/drive/MyDrive/Fudo Ejercicio/recorridos-realizados-2023.zip\")\n",
        "\n",
        "# Open the zip archive\n",
        "with zipfile.ZipFile('/content/drive/MyDrive/Fudo Ejercicio/recorridos-realizados-2023.zip', 'r') as z:\n",
        "  # Extract the file path of the CSV file within the zip archive\n",
        "  print(f\"z: {z}\")\n",
        "  csv_file_path = z.getinfo('/content/drive/MyDrive/Fudo Ejercicio/recorridos-realizados-2023.zip').filename\n",
        "\n",
        "  # Read the CSV file into a PySpark DataFrame\n",
        "  df_recorridos = spark.read.csv(csv_file_path, header=True, inferSchema=True)\n",
        "\n",
        "\n",
        "#spark.read.options(delimiter=\";\", header=True).csv(path)\n",
        "\n",
        "df_recorridos.show()"
      ],
      "metadata": {
        "colab": {
          "base_uri": "https://localhost:8080/",
          "height": 438
        },
        "id": "89Gq2nJyDetU",
        "outputId": "cba0872e-add3-4979-d074-9938ab14902d"
      },
      "execution_count": 12,
      "outputs": [
        {
          "output_type": "stream",
          "name": "stdout",
          "text": [
            "z: <zipfile.ZipFile filename='/content/drive/MyDrive/Fudo Ejercicio/recorridos-realizados-2023.zip' mode='r'>\n"
          ]
        },
        {
          "output_type": "error",
          "ename": "KeyError",
          "evalue": "\"There is no item named '/content/drive/MyDrive/Fudo Ejercicio/recorridos-realizados-2023.zip' in the archive\"",
          "traceback": [
            "\u001b[0;31m---------------------------------------------------------------------------\u001b[0m",
            "\u001b[0;31mKeyError\u001b[0m                                  Traceback (most recent call last)",
            "\u001b[0;32m<ipython-input-12-f83743d803a8>\u001b[0m in \u001b[0;36m<cell line: 9>\u001b[0;34m()\u001b[0m\n\u001b[1;32m     10\u001b[0m   \u001b[0;31m# Extract the file path of the CSV file within the zip archive\u001b[0m\u001b[0;34m\u001b[0m\u001b[0;34m\u001b[0m\u001b[0m\n\u001b[1;32m     11\u001b[0m   \u001b[0mprint\u001b[0m\u001b[0;34m(\u001b[0m\u001b[0;34mf\"z: {z}\"\u001b[0m\u001b[0;34m)\u001b[0m\u001b[0;34m\u001b[0m\u001b[0;34m\u001b[0m\u001b[0m\n\u001b[0;32m---> 12\u001b[0;31m   \u001b[0mcsv_file_path\u001b[0m \u001b[0;34m=\u001b[0m \u001b[0mz\u001b[0m\u001b[0;34m.\u001b[0m\u001b[0mgetinfo\u001b[0m\u001b[0;34m(\u001b[0m\u001b[0;34m'/content/drive/MyDrive/Fudo Ejercicio/recorridos-realizados-2023.zip'\u001b[0m\u001b[0;34m)\u001b[0m\u001b[0;34m.\u001b[0m\u001b[0mfilename\u001b[0m\u001b[0;34m\u001b[0m\u001b[0;34m\u001b[0m\u001b[0m\n\u001b[0m\u001b[1;32m     13\u001b[0m \u001b[0;34m\u001b[0m\u001b[0m\n\u001b[1;32m     14\u001b[0m   \u001b[0;31m# Read the CSV file into a PySpark DataFrame\u001b[0m\u001b[0;34m\u001b[0m\u001b[0;34m\u001b[0m\u001b[0m\n",
            "\u001b[0;32m/usr/lib/python3.10/zipfile.py\u001b[0m in \u001b[0;36mgetinfo\u001b[0;34m(self, name)\u001b[0m\n\u001b[1;32m   1441\u001b[0m         \u001b[0minfo\u001b[0m \u001b[0;34m=\u001b[0m \u001b[0mself\u001b[0m\u001b[0;34m.\u001b[0m\u001b[0mNameToInfo\u001b[0m\u001b[0;34m.\u001b[0m\u001b[0mget\u001b[0m\u001b[0;34m(\u001b[0m\u001b[0mname\u001b[0m\u001b[0;34m)\u001b[0m\u001b[0;34m\u001b[0m\u001b[0;34m\u001b[0m\u001b[0m\n\u001b[1;32m   1442\u001b[0m         \u001b[0;32mif\u001b[0m \u001b[0minfo\u001b[0m \u001b[0;32mis\u001b[0m \u001b[0;32mNone\u001b[0m\u001b[0;34m:\u001b[0m\u001b[0;34m\u001b[0m\u001b[0;34m\u001b[0m\u001b[0m\n\u001b[0;32m-> 1443\u001b[0;31m             raise KeyError(\n\u001b[0m\u001b[1;32m   1444\u001b[0m                 'There is no item named %r in the archive' % name)\n\u001b[1;32m   1445\u001b[0m \u001b[0;34m\u001b[0m\u001b[0m\n",
            "\u001b[0;31mKeyError\u001b[0m: \"There is no item named '/content/drive/MyDrive/Fudo Ejercicio/recorridos-realizados-2023.zip' in the archive\""
          ]
        }
      ]
    },
    {
      "cell_type": "code",
      "source": [],
      "metadata": {
        "id": "WTP-ourpDevO"
      },
      "execution_count": null,
      "outputs": []
    },
    {
      "cell_type": "code",
      "source": [],
      "metadata": {
        "id": "d07c05cwDexe"
      },
      "execution_count": null,
      "outputs": []
    },
    {
      "cell_type": "code",
      "source": [],
      "metadata": {
        "id": "Xq3YpCMcDez-"
      },
      "execution_count": null,
      "outputs": []
    },
    {
      "cell_type": "code",
      "source": [],
      "metadata": {
        "id": "uYE8LlCuDe2l"
      },
      "execution_count": null,
      "outputs": []
    }
  ]
}